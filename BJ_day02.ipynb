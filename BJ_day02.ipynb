{
  "nbformat": 4,
  "nbformat_minor": 0,
  "metadata": {
    "colab": {
      "name": "BJ_day02.ipynb",
      "provenance": [],
      "collapsed_sections": [],
      "toc_visible": true
    },
    "kernelspec": {
      "name": "python3",
      "display_name": "Python 3"
    },
    "language_info": {
      "name": "python"
    }
  },
  "cells": [
    {
      "cell_type": "markdown",
      "metadata": {
        "id": "aAKwhCJ3ZXkO"
      },
      "source": [
        "# 1715번 : 카드 정렬하기"
      ]
    },
    {
      "cell_type": "markdown",
      "metadata": {
        "id": "Km5nC1l1cB9Q"
      },
      "source": [
        "## 문제\n",
        "정렬된 두 묶음의 숫자 카드가 있다고 하자. 각 묶음의 카드의 수를 A, B라 하면 보통 두 묶음을 합쳐서 하나로 만드는 데에는 A+B 번의 비교를 해야 한다. 이를테면, 20장의 숫자 카드 묶음과 30장의 숫자 카드 묶음을 합치려면 50번의 비교가 필요하다.\n",
        "\n",
        "매우 많은 숫자 카드 묶음이 책상 위에 놓여 있다. 이들을 두 묶음씩 골라 서로 합쳐나간다면, 고르는 순서에 따라서 비교 횟수가 매우 달라진다. 예를 들어 10장, 20장, 40장의 묶음이 있다면 10장과 20장을 합친 뒤, 합친 30장 묶음과 40장을 합친다면 (10 + 20) + (30 + 40) = 100번의 비교가 필요하다. 그러나 10장과 40장을 합친 뒤, 합친 50장 묶음과 20장을 합친다면 (10 + 40) + (50 + 20) = 120 번의 비교가 필요하므로 덜 효율적인 방법이다.\n",
        "\n",
        "N개의 숫자 카드 묶음의 각각의 크기가 주어질 때, 최소한 몇 번의 비교가 필요한지를 구하는 프로그램을 작성하시오."
      ]
    },
    {
      "cell_type": "markdown",
      "metadata": {
        "id": "SEXLzExacJvs"
      },
      "source": [
        "### 입력\n",
        "첫째 줄에 N이 주어진다. (1 ≤ N ≤ 100,000) 이어서 N개의 줄에 걸쳐 숫자 카드 묶음의 각각의 크기가 주어진다. 숫자 카드 묶음의 크기는 1,000보다 작거나 같은 양의 정수이다."
      ]
    },
    {
      "cell_type": "markdown",
      "metadata": {
        "id": "Xh73OwrVbhEZ"
      },
      "source": [
        "### 출력\n",
        "첫째 줄에 최소 비교 횟수를 출력한다."
      ]
    },
    {
      "cell_type": "code",
      "metadata": {
        "colab": {
          "base_uri": "https://localhost:8080/"
        },
        "id": "rEqTqg77cUPx",
        "outputId": "b5323fca-8268-43cb-f876-5b16cb7ab48f"
      },
      "source": [
        "N = int(input())\n",
        "card = []\n",
        "how = 0\n",
        "\n",
        "for i in range(N):\n",
        "    a = int(input())\n",
        "    card.append(a)\n",
        "card.sort()\n",
        "\n",
        "if N < 3:\n",
        "    how = sum(card)\n",
        "else:\n",
        "    ch = card[0] + card[1]\n",
        "    how += ch\n",
        "    for i in range(2, N):\n",
        "        how += ch + card[i]\n",
        "        ch += card[i]\n",
        "print(how)"
      ],
      "execution_count": 1,
      "outputs": [
        {
          "output_type": "stream",
          "text": [
            "3\n",
            "10\n",
            "20\n",
            "40\n",
            "100\n"
          ],
          "name": "stdout"
        }
      ]
    },
    {
      "cell_type": "markdown",
      "metadata": {
        "id": "7C5QAuJ0ccjz"
      },
      "source": [
        "- 오답 : 반례를 찾지 못함"
      ]
    },
    {
      "cell_type": "markdown",
      "metadata": {
        "id": "lPRjSZzxci60"
      },
      "source": [
        "# 1783번 : 병든 나이트"
      ]
    },
    {
      "cell_type": "markdown",
      "metadata": {
        "id": "kXa7fBjJcsgh"
      },
      "source": [
        "## 문제\n",
        "병든 나이트가 N × M 크기 체스판의 가장 왼쪽아래 칸에 위치해 있다. 병든 나이트는 건강한 보통 체스의 나이트와 다르게 4가지로만 움직일 수 있다.\n",
        "\n",
        "2칸 위로, 1칸 오른쪽\n",
        "1칸 위로, 2칸 오른쪽\n",
        "1칸 아래로, 2칸 오른쪽\n",
        "2칸 아래로, 1칸 오른쪽\n",
        "병든 나이트는 여행을 시작하려고 하고, 여행을 하면서 방문한 칸의 수를 최대로 하려고 한다. 병든 나이트의 이동 횟수가 4번보다 적지 않다면, 이동 방법을 모두 한 번씩 사용해야 한다. 이동 횟수가 4번보다 적은 경우(방문한 칸이 5개 미만)에는 이동 방법에 대한 제약이 없다.\n",
        "\n",
        "체스판의 크기가 주어졌을 때, 병든 나이트가 여행에서 방문할 수 있는 칸의 최대 개수를 구해보자."
      ]
    },
    {
      "cell_type": "markdown",
      "metadata": {
        "id": "6fBkxWvScxmk"
      },
      "source": [
        "### 입력\n",
        "첫째 줄에 체스판의 세로 길이 N와 가로 길이 M이 주어진다. N과 M은 2,000,000,000보다 작거나 같은 자연수이다."
      ]
    },
    {
      "cell_type": "markdown",
      "metadata": {
        "id": "l8F50FqQc0Mx"
      },
      "source": [
        "### 출력\n",
        "병든 나이트가 여행에서 방문할 수 있는 칸의 개수중 최댓값을 출력한다."
      ]
    },
    {
      "cell_type": "code",
      "metadata": {
        "colab": {
          "base_uri": "https://localhost:8080/",
          "height": 257
        },
        "id": "cMXV0sO7c5XJ",
        "outputId": "27616a66-7bed-4b18-fc76-246f007120db"
      },
      "source": [
        "N, M = map(int, input().split())\n",
        "\n",
        "if N >= 3 and M >= 6:\n",
        "    answer = M-2\n",
        "elif N >= 3 and M < 6:\n",
        "    if M == 4 or M == 5:\n",
        "        answer = 4\n",
        "    elif M == 3:\n",
        "        answer = 3\n",
        "    elif M == 2:\n",
        "        answer = 2\n",
        "    else :\n",
        "        answer = 1\n",
        "elif N < 3 and M >= 6:\n",
        "    answer = 4 \n",
        "else :\n",
        "    if N == 1:\n",
        "        answer = 1\n",
        "    else:\n",
        "        answer = int((M+1)//2)\n",
        "print(answer)"
      ],
      "execution_count": 2,
      "outputs": [
        {
          "output_type": "stream",
          "text": [
            "100\n"
          ],
          "name": "stdout"
        },
        {
          "output_type": "error",
          "ename": "ValueError",
          "evalue": "ignored",
          "traceback": [
            "\u001b[0;31m---------------------------------------------------------------------------\u001b[0m",
            "\u001b[0;31mValueError\u001b[0m                                Traceback (most recent call last)",
            "\u001b[0;32m<ipython-input-2-d57ca1ecc14e>\u001b[0m in \u001b[0;36m<module>\u001b[0;34m()\u001b[0m\n\u001b[0;32m----> 1\u001b[0;31m \u001b[0mN\u001b[0m\u001b[0;34m,\u001b[0m \u001b[0mM\u001b[0m \u001b[0;34m=\u001b[0m \u001b[0mmap\u001b[0m\u001b[0;34m(\u001b[0m\u001b[0mint\u001b[0m\u001b[0;34m,\u001b[0m \u001b[0minput\u001b[0m\u001b[0;34m(\u001b[0m\u001b[0;34m)\u001b[0m\u001b[0;34m.\u001b[0m\u001b[0msplit\u001b[0m\u001b[0;34m(\u001b[0m\u001b[0;34m)\u001b[0m\u001b[0;34m)\u001b[0m\u001b[0;34m\u001b[0m\u001b[0;34m\u001b[0m\u001b[0m\n\u001b[0m\u001b[1;32m      2\u001b[0m \u001b[0;34m\u001b[0m\u001b[0m\n\u001b[1;32m      3\u001b[0m \u001b[0;32mif\u001b[0m \u001b[0mN\u001b[0m \u001b[0;34m>=\u001b[0m \u001b[0;36m3\u001b[0m \u001b[0;32mand\u001b[0m \u001b[0mM\u001b[0m \u001b[0;34m>=\u001b[0m \u001b[0;36m6\u001b[0m\u001b[0;34m:\u001b[0m\u001b[0;34m\u001b[0m\u001b[0;34m\u001b[0m\u001b[0m\n\u001b[1;32m      4\u001b[0m     \u001b[0manswer\u001b[0m \u001b[0;34m=\u001b[0m \u001b[0mM\u001b[0m\u001b[0;34m-\u001b[0m\u001b[0;36m2\u001b[0m\u001b[0;34m\u001b[0m\u001b[0;34m\u001b[0m\u001b[0m\n\u001b[1;32m      5\u001b[0m \u001b[0;32melif\u001b[0m \u001b[0mN\u001b[0m \u001b[0;34m>=\u001b[0m \u001b[0;36m3\u001b[0m \u001b[0;32mand\u001b[0m \u001b[0mM\u001b[0m \u001b[0;34m<\u001b[0m \u001b[0;36m6\u001b[0m\u001b[0;34m:\u001b[0m\u001b[0;34m\u001b[0m\u001b[0;34m\u001b[0m\u001b[0m\n",
            "\u001b[0;31mValueError\u001b[0m: not enough values to unpack (expected 2, got 1)"
          ]
        }
      ]
    },
    {
      "cell_type": "markdown",
      "metadata": {
        "id": "j63ffDDudAbC"
      },
      "source": [
        "# 1789번 : 수들의 합"
      ]
    },
    {
      "cell_type": "markdown",
      "metadata": {
        "id": "BZo828SndJRi"
      },
      "source": [
        "## 문제\n",
        "서로 다른 N개의 자연수의 합이 S라고 한다. S를 알 때, 자연수 N의 최댓값은 얼마일까?"
      ]
    },
    {
      "cell_type": "markdown",
      "metadata": {
        "id": "UjvPOsxwdN8G"
      },
      "source": [
        "### 입력\n",
        "첫째 줄에 자연수 S(1 ≤ S ≤ 4,294,967,295)가 주어진다."
      ]
    },
    {
      "cell_type": "markdown",
      "metadata": {
        "id": "r8brI8qVdQ3d"
      },
      "source": [
        "### 출력\n",
        "첫째 줄에 자연수 N의 최댓값을 출력한다."
      ]
    },
    {
      "cell_type": "code",
      "metadata": {
        "colab": {
          "base_uri": "https://localhost:8080/"
        },
        "id": "-mMODtC3dZ-g",
        "outputId": "c1fc0fd6-f5a2-43b8-f89f-c603cc904ba3"
      },
      "source": [
        "S = int(input())\n",
        "N = 1\n",
        "n = 0\n",
        "\n",
        "while n < S:\n",
        "    n += N\n",
        "    N += 1\n",
        "    \n",
        "if n > S:\n",
        "    N -= 2\n",
        "    print(N)\n",
        "else :\n",
        "    N -= 1\n",
        "    print(N)"
      ],
      "execution_count": 3,
      "outputs": [
        {
          "output_type": "stream",
          "text": [
            "200\n",
            "19\n"
          ],
          "name": "stdout"
        }
      ]
    },
    {
      "cell_type": "markdown",
      "metadata": {
        "id": "AdfGnyhEdfSn"
      },
      "source": [
        "#2217번 : 로프"
      ]
    },
    {
      "cell_type": "markdown",
      "metadata": {
        "id": "s9sqzU3odnxa"
      },
      "source": [
        "## 문제\n",
        "N(1 ≤ N ≤ 100,000)개의 로프가 있다. 이 로프를 이용하여 이런 저런 물체를 들어올릴 수 있다. 각각의 로프는 그 굵기나 길이가 다르기 때문에 들 수 있는 물체의 중량이 서로 다를 수도 있다.\n",
        "\n",
        "하지만 여러 개의 로프를 병렬로 연결하면 각각의 로프에 걸리는 중량을 나눌 수 있다. k개의 로프를 사용하여 중량이 w인 물체를 들어올릴 때, 각각의 로프에는 모두 고르게 w/k 만큼의 중량이 걸리게 된다.\n",
        "\n",
        "각 로프들에 대한 정보가 주어졌을 때, 이 로프들을 이용하여 들어올릴 수 있는 물체의 최대 중량을 구해내는 프로그램을 작성하시오. 모든 로프를 사용해야 할 필요는 없으며, 임의로 몇 개의 로프를 골라서 사용해도 된다."
      ]
    },
    {
      "cell_type": "markdown",
      "metadata": {
        "id": "LWVGF4rZdr-N"
      },
      "source": [
        "### 입력\n",
        "첫째 줄에 정수 N이 주어진다. 다음 N개의 줄에는 각 로프가 버틸 수 있는 최대 중량이 주어진다. 이 값은 10,000을 넘지 않는 자연수이다."
      ]
    },
    {
      "cell_type": "markdown",
      "metadata": {
        "id": "BWK-zD2IduVH"
      },
      "source": [
        "### 출력\n",
        "첫째 줄에 답을 출력한다."
      ]
    },
    {
      "cell_type": "code",
      "metadata": {
        "colab": {
          "base_uri": "https://localhost:8080/"
        },
        "id": "oePWXxaody-x",
        "outputId": "fd228dc0-69d0-406f-ffce-83c8a1a1d5f2"
      },
      "source": [
        "N = int(input())\n",
        "K = []\n",
        "max = 0\n",
        "\n",
        "for i in range(N):\n",
        "    k = int(input())\n",
        "    K.append(k)\n",
        "K.sort()\n",
        "\n",
        "for i in range(1, N+1):\n",
        "    th = K[N-i] * i\n",
        "    if th > max and th <= 10000:\n",
        "        max = th\n",
        "print(max)"
      ],
      "execution_count": 4,
      "outputs": [
        {
          "output_type": "stream",
          "text": [
            "2\n",
            "10\n",
            "15\n",
            "20\n"
          ],
          "name": "stdout"
        }
      ]
    },
    {
      "cell_type": "markdown",
      "metadata": {
        "id": "ElQOk5t6d34V"
      },
      "source": [
        "- 오답 : 반례를 찾지 못함"
      ]
    },
    {
      "cell_type": "markdown",
      "metadata": {
        "id": "a4hYsC_id8f2"
      },
      "source": [
        "# 2437번 : 저울"
      ]
    },
    {
      "cell_type": "markdown",
      "metadata": {
        "id": "04K8vxjaeFM6"
      },
      "source": [
        "## 문제\n",
        "하나의 양팔 저울을 이용하여 물건의 무게를 측정하려고 한다. 이 저울의 양 팔의 끝에는 물건이나 추를 올려놓는 접시가 달려 있고, 양팔의 길이는 같다. 또한, 저울의 한쪽에는 저울추들만 놓을 수 있고, 다른 쪽에는 무게를 측정하려는 물건만 올려놓을 수 있다.\n",
        "\n",
        "무게가 양의 정수인 N개의 저울추가 주어질 때, 이 추들을 사용하여 측정할 수 없는 양의 정수 무게 중 최솟값을 구하는 프로그램을 작성하시오.\n",
        "\n",
        "예를 들어, 무게가 각각 3, 1, 6, 2, 7, 30, 1인 7개의 저울추가 주어졌을 때, 이 추들로 측정할 수 없는 양의 정수 무게 중 최솟값은 21이다. "
      ]
    },
    {
      "cell_type": "markdown",
      "metadata": {
        "id": "R_9fFezZeKeE"
      },
      "source": [
        "### 입력\n",
        "첫 째 줄에는 저울추의 개수를 나타내는 양의 정수 N이 주어진다. N은 1 이상 1,000 이하이다. 둘째 줄에는 저울추의 무게를 나타내는 N개의 양의 정수가 빈칸을 사이에 두고 주어진다. 각 추의 무게는 1이상 1,000,000 이하이다."
      ]
    },
    {
      "cell_type": "markdown",
      "metadata": {
        "id": "6CIJo_Q7eM7E"
      },
      "source": [
        "### 출력\n",
        "첫째 줄에 주어진 추들로 측정할 수 없는 양의 정수 무게 중 최솟값을 출력한다."
      ]
    },
    {
      "cell_type": "code",
      "metadata": {
        "colab": {
          "base_uri": "https://localhost:8080/"
        },
        "id": "tEn4hC_eeQcK",
        "outputId": "76912b42-3e02-4f49-a079-aca082307acc"
      },
      "source": [
        "N = int(input())\n",
        "wgt = list(map(int, input().split()))\n",
        "arr = [[]]\n",
        "\n",
        "for w in wgt:\n",
        "    for x in range(len(arr)):\n",
        "        arr.append(arr[x] + [w])\n",
        "\n",
        "hap = list(set(map(lambda x : sum(x), arr)))\n",
        "hap.sort()\n",
        "\n",
        "for i in range(len(hap)):\n",
        "    if i != hap[i]:\n",
        "        answer = i\n",
        "        break\n",
        "\n",
        "print(answer)"
      ],
      "execution_count": 5,
      "outputs": [
        {
          "output_type": "stream",
          "text": [
            "7\n",
            "3 1 6 2 7 30 1\n",
            "21\n"
          ],
          "name": "stdout"
        }
      ]
    },
    {
      "cell_type": "markdown",
      "metadata": {
        "id": "EDJ0hPaweXTO"
      },
      "source": [
        "- 오답 : 반례를 찾지 못함"
      ]
    },
    {
      "cell_type": "markdown",
      "metadata": {
        "id": "DuFXZC7heZrN"
      },
      "source": [
        "# 2720번 : 세탁소 사장 동혁"
      ]
    },
    {
      "cell_type": "markdown",
      "metadata": {
        "id": "yxjvefZ4eiWu"
      },
      "source": [
        "## 문제\n",
        "미국으로 유학간 동혁이는 세탁소를 운영하고 있다. 동혁이는 최근에 아르바이트로 고등학생 리암을 채용했다.\n",
        "\n",
        "동혁이는 리암에게 실망했다.\n",
        "\n",
        "리암은 거스름돈을 주는 것을 자꾸 실수한다.\n",
        "\n",
        "심지어 $0.5달러를 줘야하는 경우에 거스름돈으로 $5달러를 주는것이다!\n",
        "\n",
        "어쩔수 없이 뛰어난 코딩 실력을 발휘해 리암을 도와주는 프로그램을 작성하려고 하지만, 디아블로를 하느라 코딩할 시간이 없어서 이 문제를 읽고 있는 여러분이 대신 해주어야 한다.\n",
        "\n",
        "거스름돈의 액수가 주어지면 리암이 줘야할 쿼터(Quarter, $0.25)의 개수, 다임(Dime, $0.10)의 개수, 니켈(Nickel, $0.05)의 개수, 페니(Penny, $0.01)의 개수를 구하는 프로그램을 작성하시오. 거스름돈은 항상 $5.00 이하이고, 손님이 받는 동전의 개수를 최소로 하려고 한다. 예를 들어, $1.24를 거슬러 주어야 한다면, 손님은 4쿼터, 2다임, 0니켈, 4페니를 받게 된다."
      ]
    },
    {
      "cell_type": "markdown",
      "metadata": {
        "id": "U7cCAlGaemcn"
      },
      "source": [
        "### 입력\n",
        "첫째 줄에 테스트 케이스의 개수 T가 주어진다. 각 테스트 케이스는 거스름돈 C를 나타내는 정수 하나로 이루어져 있다. C의 단위는 센트이다. (1달러 = 100센트) (1<=C<=500)"
      ]
    },
    {
      "cell_type": "markdown",
      "metadata": {
        "id": "W1SiS9Xiepj7"
      },
      "source": [
        "### 출력\n",
        "각 테스트케이스에 대해 필요한 쿼터의 개수, 다임의 개수, 니켈의 개수, 페니의 개수를 공백으로 구분하여 출력한다."
      ]
    },
    {
      "cell_type": "code",
      "metadata": {
        "colab": {
          "base_uri": "https://localhost:8080/"
        },
        "id": "vJl20QbGetk2",
        "outputId": "0e081a3b-34de-46ca-c1ba-85a8c2bfd907"
      },
      "source": [
        "T = int(input())\n",
        "cnt = []\n",
        "for i in range(T):\n",
        "    c = int(input())\n",
        "    cnt.append([0,0,0,0])\n",
        "    while c != 0:\n",
        "        if c >= 25:\n",
        "            c -= 25\n",
        "            cnt[i][0] += 1\n",
        "        elif c >= 10:\n",
        "            c -= 10\n",
        "            cnt[i][1] += 1\n",
        "        elif c >= 5:\n",
        "            c -= 5\n",
        "            cnt[i][2] += 1\n",
        "        elif c >= 1:\n",
        "            c -= 1\n",
        "            cnt[i][3] += 1\n",
        "for i in range(T):\n",
        "    for j in range(4):\n",
        "        print(cnt[i][j], end=' ')\n",
        "    print()"
      ],
      "execution_count": 6,
      "outputs": [
        {
          "output_type": "stream",
          "text": [
            "3\n",
            "124\n",
            "25\n",
            "194\n",
            "4 2 0 4 \n",
            "1 0 0 0 \n",
            "7 1 1 4 \n"
          ],
          "name": "stdout"
        }
      ]
    }
  ]
}