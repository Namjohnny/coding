{
  "nbformat": 4,
  "nbformat_minor": 0,
  "metadata": {
    "colab": {
      "name": "BJ_day04.ipynb",
      "provenance": [],
      "collapsed_sections": [],
      "toc_visible": true
    },
    "kernelspec": {
      "name": "python3",
      "display_name": "Python 3"
    },
    "language_info": {
      "name": "python"
    }
  },
  "cells": [
    {
      "cell_type": "markdown",
      "metadata": {
        "id": "3x7klXSUptQR"
      },
      "source": [
        "# 13305번 : 주유소"
      ]
    },
    {
      "cell_type": "markdown",
      "metadata": {
        "id": "SP_CeBSCqHJM"
      },
      "source": [
        "## 문제\n",
        "어떤 나라에 N개의 도시가 있다. 이 도시들은 일직선 도로 위에 있다. 편의상 일직선을 수평 방향으로 두자. 제일 왼쪽의 도시에서 제일 오른쪽의 도시로 자동차를 이용하여 이동하려고 한다. 인접한 두 도시 사이의 도로들은 서로 길이가 다를 수 있다. 도로 길이의 단위는 km를 사용한다.\n",
        "\n",
        "처음 출발할 때 자동차에는 기름이 없어서 주유소에서 기름을 넣고 출발하여야 한다. 기름통의 크기는 무제한이어서 얼마든지 많은 기름을 넣을 수 있다. 도로를 이용하여 이동할 때 1km마다 1리터의 기름을 사용한다. 각 도시에는 단 하나의 주유소가 있으며, 도시 마다 주유소의 리터당 가격은 다를 수 있다. 가격의 단위는 원을 사용한다.\n",
        "\n",
        "예를 들어, 이 나라에 다음 그림처럼 4개의 도시가 있다고 하자. 원 안에 있는 숫자는 그 도시에 있는 주유소의 리터당 가격이다. 도로 위에 있는 숫자는 도로의 길이를 표시한 것이다. \n",
        "\n",
        "제일 왼쪽 도시에서 6리터의 기름을 넣고, 더 이상의 주유 없이 제일 오른쪽 도시까지 이동하면 총 비용은 30원이다. 만약 제일 왼쪽 도시에서 2리터의 기름을 넣고(2×5 = 10원) 다음 번 도시까지 이동한 후 3리터의 기름을 넣고(3×2 = 6원) 다음 도시에서 1리터의 기름을 넣어(1×4 = 4원) 제일 오른쪽 도시로 이동하면, 총 비용은 20원이다. 또 다른 방법으로 제일 왼쪽 도시에서 2리터의 기름을 넣고(2×5 = 10원) 다음 번 도시까지 이동한 후 4리터의 기름을 넣고(4×2 = 8원) 제일 오른쪽 도시까지 이동하면, 총 비용은 18원이다.\n",
        "\n",
        "각 도시에 있는 주유소의 기름 가격과, 각 도시를 연결하는 도로의 길이를 입력으로 받아 제일 왼쪽 도시에서 제일 오른쪽 도시로 이동하는 최소의 비용을 계산하는 프로그램을 작성하시오."
      ]
    },
    {
      "cell_type": "markdown",
      "metadata": {
        "id": "oMbCLzMKqO3S"
      },
      "source": [
        "### 입력\n",
        "표준 입력으로 다음 정보가 주어진다. 첫 번째 줄에는 도시의 개수를 나타내는 정수 N(2 ≤ N ≤ 100,000)이 주어진다. 다음 줄에는 인접한 두 도시를 연결하는 도로의 길이가 제일 왼쪽 도로부터 N-1개의 자연수로 주어진다. 다음 줄에는 주유소의 리터당 가격이 제일 왼쪽 도시부터 순서대로 N개의 자연수로 주어진다. 제일 왼쪽 도시부터 제일 오른쪽 도시까지의 거리는 1이상 1,000,000,000 이하의 자연수이다. 리터당 가격은 1 이상 1,000,000,000 이하의 자연수이다. "
      ]
    },
    {
      "cell_type": "markdown",
      "metadata": {
        "id": "fLM69EpiqRD5"
      },
      "source": [
        "### 출력\n",
        "표준 출력으로 제일 왼쪽 도시에서 제일 오른쪽 도시로 가는 최소 비용을 출력한다. "
      ]
    },
    {
      "cell_type": "code",
      "metadata": {
        "colab": {
          "base_uri": "https://localhost:8080/"
        },
        "id": "aWFY4IKjqUU0",
        "outputId": "4f168482-fac8-4ff3-9851-5161db61c80c"
      },
      "source": [
        "N = int(input())\n",
        "st = list(map(int, input().split()))\n",
        "pr = list(map(int, input().split()))\n",
        "good = min(pr)\n",
        "mpr = 0\n",
        "\n",
        "for i in range(N-1):\n",
        "    if i == 0:\n",
        "        mpr += pr[i] * st[i]\n",
        "        mvpr = pr[i]\n",
        "    elif pr[i] > mvpr:\n",
        "        mpr += mvpr * st[i]\n",
        "    elif pr[i] <= mvpr:\n",
        "        mpr += pr[i] * st[i]\n",
        "        mvpr = pr[i]\n",
        "print(mpr)"
      ],
      "execution_count": 1,
      "outputs": [
        {
          "output_type": "stream",
          "text": [
            "4\n",
            "3 3 4\n",
            "1 1 1 1\n",
            "10\n"
          ],
          "name": "stdout"
        }
      ]
    },
    {
      "cell_type": "markdown",
      "metadata": {
        "id": "hHH5veLiqdKl"
      },
      "source": [
        "# 13904번 : 과제"
      ]
    },
    {
      "cell_type": "markdown",
      "metadata": {
        "id": "zDj8z8pUqmLT"
      },
      "source": [
        "## 문제\n",
        "웅찬이는 과제가 많다. 하루에 한 과제를 끝낼 수 있는데, 과제마다 마감일이 있으므로 모든 과제를 끝내지 못할 수도 있다. 과제마다 끝냈을 때 얻을 수 있는 점수가 있는데, 마감일이 지난 과제는 점수를 받을 수 없다.\n",
        "\n",
        "웅찬이는 가장 점수를 많이 받을 수 있도록 과제를 수행하고 싶다. 웅찬이를 도와 얻을 수 있는 점수의 최댓값을 구하시오."
      ]
    },
    {
      "cell_type": "markdown",
      "metadata": {
        "id": "hLM7ML4zqqcS"
      },
      "source": [
        "### 입력\n",
        "첫 줄에 정수 N (1 ≤ N ≤ 1,000)이 주어진다.\n",
        "\n",
        "다음 줄부터 N개의 줄에는 각각 두 정수 d (1 ≤ d ≤ 1,000)와 w (1 ≤ w ≤ 100)가 주어진다. d는 과제 마감일까지 남은 일수를 의미하며, w는 과제의 점수를 의미한다."
      ]
    },
    {
      "cell_type": "markdown",
      "metadata": {
        "id": "LlYjK75mqtKY"
      },
      "source": [
        "### 출력\n",
        "얻을 수 있는 점수의 최댓값을 출력한다."
      ]
    },
    {
      "cell_type": "code",
      "metadata": {
        "colab": {
          "base_uri": "https://localhost:8080/"
        },
        "id": "2nre3_rAqvd4",
        "outputId": "077541c6-942c-4391-940a-eabfb2fa3e31"
      },
      "source": [
        "n = int(input())\n",
        "dayscore = []\n",
        "max = 0\n",
        "\n",
        "for i in range(n):\n",
        "    d, w = map(int, input().split())\n",
        "    if d > max:\n",
        "        max = d\n",
        "    dayscore.append([d, w])\n",
        "clear = [0 for i in range(max)]\n",
        "\n",
        "dayscore = sorted(dayscore, key = lambda x : -x[1])\n",
        "\n",
        "for i in range(n):\n",
        "    for j in range(dayscore[i][0]-1, -1, -1):\n",
        "        if clear[j] == 0:\n",
        "            clear[j] = dayscore[i][1]\n",
        "            break\n",
        "print(sum(clear))"
      ],
      "execution_count": 2,
      "outputs": [
        {
          "output_type": "stream",
          "text": [
            "7\n",
            "4 60\n",
            "4 40\n",
            "1 20\n",
            "2 50\n",
            "3 30\n",
            "4 10\n",
            "6 5\n",
            "185\n"
          ],
          "name": "stdout"
        }
      ]
    },
    {
      "cell_type": "markdown",
      "metadata": {
        "id": "C1qaiXRwq20b"
      },
      "source": [
        "# 14659번 : 한조서열정리하고옴ㅋㅋ"
      ]
    },
    {
      "cell_type": "markdown",
      "metadata": {
        "id": "InKmNXyVrDIR"
      },
      "source": [
        "## 문제\n",
        "“반갑다. 내 이름은 반고흐#31555! 조선 최고의 활잡이지. 오늘도 난 금강산 위에서 적들을 노리고 있지. 내 앞에 있는 적들이라면 누구도 놓치지 않아! 좋아, 이제 곧 월식이 시작되는군. 월식이 시작되면 용이 적들을 집어삼킬 것이다. 잘 봐두어라! 마장동 활잡이 반고흐#31555님의 실력을-!”\n",
        "\n",
        "반고흐#31555는 자기 뒤쪽 봉우리에 덩기#3958이 있음을 전혀 모르고 있었다. 덩기#3958도 반고흐#31555와 마찬가지로 월식이 시작되면 용을 불러내어 눈앞에 있는 다른 활잡이들을 모두 처치할 생각이다. 사실, 반고흐#31555와 덩기#3958 뿐만 아니라 금강 산맥의 N개 봉우리에 있는 모든 활잡이들이 같은 생각을 가지고 있다.\n",
        "\n",
        "반고흐#31555가 있는 금강 산맥에는 총 N개의 봉우리가 있고, 모든 봉우리마다 한 명의 활잡이가 서서 월식이 시작되기만을 기다리고 있다. 다만, 애석하게도, 천계에 맥도날드가 생겨 용들이 살이 찐 탓에 용들은 자신보다 낮은 봉우리에 서있는 적들만 처치할 수 있게 되었다. 또한 용들은 처음 출발한 봉우리보다 높은 봉우리를 만나면 그대로 공격을 포기하고 금강산자락에 드러누워 낮잠을 청한다고 한다. 봉우리의 높이는 모두 다르고 모든 용들은 오른쪽으로만 나아가며, 중간에 방향을 틀거나, 봉우리가 무너지거나 솟아나는 경우는 없다.\n",
        "\n",
        "“달에 마구니가 끼었구나.”\n",
        "\n",
        "드디어 월식이 시작됐다! 과연 이들 활잡이 중 최고의 활잡이는 누구일까? 최고의 활잡이가 최대 몇 명의 적을 처치할 수 있는지 알아보자."
      ]
    },
    {
      "cell_type": "markdown",
      "metadata": {
        "id": "jm5PDLGirG_c"
      },
      "source": [
        "### 입력\n",
        "첫째 줄에 봉우리의 수 겸 활잡이의 수 N이 주어진다. (1 ≤ N ≤ 30,000) 둘째 줄에 N개 봉우리의 높이가 왼쪽 봉우리부터 순서대로 주어진다. (1 ≤ 높이 ≤ 100,000) 각각 봉우리의 높이는 중복 없이 유일하다."
      ]
    },
    {
      "cell_type": "markdown",
      "metadata": {
        "id": "s_BrqQ8CrJuG"
      },
      "source": [
        "### 출력\n",
        "최고의 활잡이가 처치할 수 있는 적의 최대 숫자를 출력한다."
      ]
    },
    {
      "cell_type": "code",
      "metadata": {
        "colab": {
          "base_uri": "https://localhost:8080/",
          "height": 274
        },
        "id": "-3aw2svGrNQo",
        "outputId": "0e4cb88c-9eb9-44cf-85a3-8952c9be21c5"
      },
      "source": [
        "n = int(input())\n",
        "high = list(map(int, input().split()))\n",
        "kill = []\n",
        "\n",
        "for i in range(n-1):\n",
        "    cnt = 0\n",
        "    for j in range(i+1, n):\n",
        "        if high[j] > high[i]:\n",
        "            break\n",
        "        elif high[j] == high[i]:\n",
        "            pass\n",
        "        else :\n",
        "            cnt += 1\n",
        "    kill.append(cnt)\n",
        "    if n-i <= max(kill):\n",
        "        break\n",
        "print(max(kill))"
      ],
      "execution_count": 4,
      "outputs": [
        {
          "output_type": "stream",
          "text": [
            "7\n",
            "6 4 10 2 5 7 11\n"
          ],
          "name": "stdout"
        },
        {
          "output_type": "error",
          "ename": "TypeError",
          "evalue": "ignored",
          "traceback": [
            "\u001b[0;31m---------------------------------------------------------------------------\u001b[0m",
            "\u001b[0;31mTypeError\u001b[0m                                 Traceback (most recent call last)",
            "\u001b[0;32m<ipython-input-4-b84a814345c3>\u001b[0m in \u001b[0;36m<module>\u001b[0;34m()\u001b[0m\n\u001b[1;32m     13\u001b[0m             \u001b[0mcnt\u001b[0m \u001b[0;34m+=\u001b[0m \u001b[0;36m1\u001b[0m\u001b[0;34m\u001b[0m\u001b[0;34m\u001b[0m\u001b[0m\n\u001b[1;32m     14\u001b[0m     \u001b[0mkill\u001b[0m\u001b[0;34m.\u001b[0m\u001b[0mappend\u001b[0m\u001b[0;34m(\u001b[0m\u001b[0mcnt\u001b[0m\u001b[0;34m)\u001b[0m\u001b[0;34m\u001b[0m\u001b[0;34m\u001b[0m\u001b[0m\n\u001b[0;32m---> 15\u001b[0;31m     \u001b[0;32mif\u001b[0m \u001b[0mn\u001b[0m\u001b[0;34m-\u001b[0m\u001b[0mi\u001b[0m \u001b[0;34m<=\u001b[0m \u001b[0mmax\u001b[0m\u001b[0;34m(\u001b[0m\u001b[0mkill\u001b[0m\u001b[0;34m)\u001b[0m\u001b[0;34m:\u001b[0m\u001b[0;34m\u001b[0m\u001b[0;34m\u001b[0m\u001b[0m\n\u001b[0m\u001b[1;32m     16\u001b[0m         \u001b[0;32mbreak\u001b[0m\u001b[0;34m\u001b[0m\u001b[0;34m\u001b[0m\u001b[0m\n\u001b[1;32m     17\u001b[0m \u001b[0mprint\u001b[0m\u001b[0;34m(\u001b[0m\u001b[0mmax\u001b[0m\u001b[0;34m(\u001b[0m\u001b[0mkill\u001b[0m\u001b[0;34m)\u001b[0m\u001b[0;34m)\u001b[0m\u001b[0;34m\u001b[0m\u001b[0;34m\u001b[0m\u001b[0m\n",
            "\u001b[0;31mTypeError\u001b[0m: 'int' object is not callable"
          ]
        }
      ]
    },
    {
      "cell_type": "markdown",
      "metadata": {
        "id": "0kQhIetprsNZ"
      },
      "source": [
        "- 문제는 맞췄으나 Colaboratory에선 오류 발생"
      ]
    },
    {
      "cell_type": "markdown",
      "metadata": {
        "id": "kI_O6B7jr2VZ"
      },
      "source": [
        "# 15903번 : 카드 합체 놀이"
      ]
    },
    {
      "cell_type": "markdown",
      "metadata": {
        "id": "iD7jE8czsTd0"
      },
      "source": [
        "## 문제\n",
        "석환이는 아기다. 아기 석환이는 자연수가 쓰여져있는 카드를 갖고 다양한 놀이를 하며 노는 것을 좋아한다. 오늘 아기 석환이는 무슨 놀이를 하고 있을까? 바로 카드 합체 놀이이다!\n",
        "\n",
        "아기 석환이는 자연수가 쓰여진 카드를 n장 갖고 있다. 처음에 i번 카드엔 ai가 쓰여있다. 카드 합체 놀이는 이 카드들을 합체하며 노는 놀이이다. 카드 합체는 다음과 같은 과정으로 이루어진다.\n",
        "\n",
        "x번 카드와 y번 카드를 골라 그 두 장에 쓰여진 수를 더한 값을 계산한다. (x ≠ y)\n",
        "계산한 값을 x번 카드와 y번 카드 두 장 모두에 덮어 쓴다.\n",
        "이 카드 합체를 총 m번 하면 놀이가 끝난다. m번의 합체를 모두 끝낸 뒤, n장의 카드에 쓰여있는 수를 모두 더한 값이 이 놀이의 점수가 된다. 이 점수를 가장 작게 만드는 것이 놀이의 목표이다.\n",
        "\n",
        "아기 석환이는 수학을 좋아하긴 하지만, 아직 아기이기 때문에 점수를 얼마나 작게 만들 수 있는지를 알 수는 없었다(어른 석환이는 당연히 쉽게 알 수 있다). 그래서 문제 해결 능력이 뛰어난 여러분에게 도움을 요청했다. 만들 수 있는 가장 작은 점수를 계산하는 프로그램을 만들어보자."
      ]
    },
    {
      "cell_type": "markdown",
      "metadata": {
        "id": "pOSnFKjasVyu"
      },
      "source": [
        "### 입력\n",
        "첫 번째 줄에 카드의 개수를 나타내는 수 n(2 ≤ n ≤ 1,000)과 카드 합체를 몇 번 하는지를 나타내는 수 m(0 ≤ m ≤ 15×n)이 주어진다.\n",
        "\n",
        "두 번째 줄에 맨 처음 카드의 상태를 나타내는 n개의 자연수 a1, a2, …, an이 공백으로 구분되어 주어진다. (1 ≤ ai ≤ 1,000,000)"
      ]
    },
    {
      "cell_type": "markdown",
      "metadata": {
        "id": "tAwERGfVsYQV"
      },
      "source": [
        "### 출력\n",
        "첫 번째 줄에 만들 수 있는 가장 작은 점수를 출력한다."
      ]
    },
    {
      "cell_type": "code",
      "metadata": {
        "colab": {
          "base_uri": "https://localhost:8080/"
        },
        "id": "teD3A_kwsanh",
        "outputId": "7e9135f5-7c06-4d63-dc09-14568d4bc0e0"
      },
      "source": [
        "n, m = map(int, input().split())\n",
        "an = list(map(int, input().split()))\n",
        "\n",
        "for i in range(m):\n",
        "    an.sort()\n",
        "    an[0] = an[0] + an[1]\n",
        "    an[1] = an[0]\n",
        "print(sum(an))"
      ],
      "execution_count": 5,
      "outputs": [
        {
          "output_type": "stream",
          "text": [
            "3 1\n",
            "3 2 6\n",
            "16\n"
          ],
          "name": "stdout"
        }
      ]
    }
  ]
}