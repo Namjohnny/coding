{
  "nbformat": 4,
  "nbformat_minor": 0,
  "metadata": {
    "colab": {
      "name": "BJ_day03.ipynb",
      "provenance": [],
      "collapsed_sections": [],
      "toc_visible": true
    },
    "kernelspec": {
      "name": "python3",
      "display_name": "Python 3"
    },
    "language_info": {
      "name": "python"
    }
  },
  "cells": [
    {
      "cell_type": "markdown",
      "metadata": {
        "id": "3KD3gWw-oDbM"
      },
      "source": [
        "# 2812번 : 크게 만들기"
      ]
    },
    {
      "cell_type": "markdown",
      "metadata": {
        "id": "o6JkuqeqolXn"
      },
      "source": [
        "## 문제\n",
        "N자리 숫자가 주어졌을 때, 여기서 숫자 K개를 지워서 얻을 수 있는 가장 큰 수를 구하는 프로그램을 작성하시오."
      ]
    },
    {
      "cell_type": "markdown",
      "metadata": {
        "id": "4CxxIUaionCg"
      },
      "source": [
        "### 입력\n",
        "첫째 줄에 N과 K가 주어진다. (1 ≤ K < N ≤ 500,000)\n",
        "\n",
        "둘째 줄에 N자리 숫자가 주어진다. 이 수는 0으로 시작하지 않는다."
      ]
    },
    {
      "cell_type": "markdown",
      "metadata": {
        "id": "NiKcvkrJoqNQ"
      },
      "source": [
        "### 출력\n",
        "입력으로 주어진 숫자에서 K개를 지웠을 때 얻을 수 있는 가장 큰 수를 출력한다."
      ]
    },
    {
      "cell_type": "code",
      "metadata": {
        "colab": {
          "base_uri": "https://localhost:8080/"
        },
        "id": "Z5NS0HR9otJ0",
        "outputId": "57258f34-309e-40f0-a255-5fb43cd4491c"
      },
      "source": [
        "n, k = map(int, input().split())\n",
        "num = input()\n",
        "midx = 0\n",
        "answer = 0\n",
        "\n",
        "for j in range(n-k):\n",
        "    max = 0\n",
        "    for i in range(midx+1, k+j+1):\n",
        "        if int(num[i]) > max:\n",
        "            max = int(num[i])\n",
        "            midx = i\n",
        "    answer += max * (10**(n-k-j-1))\n",
        "print(answer)"
      ],
      "execution_count": 2,
      "outputs": [
        {
          "output_type": "stream",
          "text": [
            "10 4\n",
            "4177252841\n",
            "775841\n"
          ],
          "name": "stdout"
        }
      ]
    },
    {
      "cell_type": "markdown",
      "metadata": {
        "id": "8REyWtq8o7C9"
      },
      "source": [
        "- 오답 : 반례를 찾지 못함"
      ]
    },
    {
      "cell_type": "markdown",
      "metadata": {
        "id": "gx-DZVA1o_V1"
      },
      "source": [
        "# 2847번 : 게임을 만든 동준이"
      ]
    },
    {
      "cell_type": "markdown",
      "metadata": {
        "id": "-J9LlKcLpKSV"
      },
      "source": [
        "##문제\n",
        "학교에서 그래픽스 수업을 들은 동준이는 수업시간에 들은 내용을 바탕으로 스마트폰 게임을 만들었다. 게임에는 총 N개의 레벨이 있고, 각 레벨을 클리어할 때 마다 점수가 주어진다. 플레이어의 점수는 레벨을 클리어하면서 얻은 점수의 합으로, 이 점수를 바탕으로 온라인 순위를 매긴다. 동준이는 레벨을 난이도 순으로 배치했다. 하지만, 실수로 쉬운 레벨이 어려운 레벨보다 점수를 많이 받는 경우를 만들었다.\n",
        "\n",
        "이 문제를 해결하기 위해 동준이는 특정 레벨의 점수를 감소시키려고 한다. 이렇게해서 각 레벨을 클리어할 때 주는 점수가 증가하게 만들려고 한다.\n",
        "\n",
        "각 레벨을 클리어할 때 얻는 점수가 주어졌을 때, 몇 번 감소시키면 되는지 구하는 프로그램을 작성하시오. 점수는 항상 양수이어야 하고, 1만큼 감소시키는 것이 1번이다. 항상 답이 존재하는 경우만 주어진다. 정답이 여러 가지인 경우에는 점수를 내리는 것을 최소한으로 하는 방법을 찾아야 한다."
      ]
    },
    {
      "cell_type": "markdown",
      "metadata": {
        "id": "M5axChsspQbg"
      },
      "source": [
        "### 입력\n",
        "첫째 줄에 레벨의 수 N이 주어진다. (1 ≤ N ≤ 100) 다음 N개 줄에는 각 레벨을 클리어하면 얻는 점수가 첫 번째 레벨부터 마지막 레벨까지 순서대로 주어진다. 점수는 20,000보다 작은 양의 정수이다."
      ]
    },
    {
      "cell_type": "markdown",
      "metadata": {
        "id": "gsq6ZdHvpUr4"
      },
      "source": [
        "### 출력\n",
        "첫째 줄에 점수를 몇 번 감소시키면 되는지 출력한다."
      ]
    },
    {
      "cell_type": "code",
      "metadata": {
        "colab": {
          "base_uri": "https://localhost:8080/"
        },
        "id": "ehWAh5rOpOjA",
        "outputId": "411806cc-b636-4b07-df55-b6293d196d29"
      },
      "source": [
        "N = int(input())\n",
        "score = []\n",
        "cnt = 0\n",
        "\n",
        "for i in range(N):\n",
        "    a = int(input())\n",
        "    score.append(a)\n",
        "\n",
        "score.reverse()\n",
        "\n",
        "for i in range(N-1):\n",
        "    while score[i] <= score[i+1]:\n",
        "        score[i+1] -= 1\n",
        "        cnt += 1\n",
        "print(cnt)"
      ],
      "execution_count": 3,
      "outputs": [
        {
          "output_type": "stream",
          "text": [
            "4\n",
            "5\n",
            "3\n",
            "7\n",
            "5\n",
            "6\n"
          ],
          "name": "stdout"
        }
      ]
    },
    {
      "cell_type": "markdown",
      "metadata": {
        "id": "RFcXwZZMpf8X"
      },
      "source": [
        "# 4796번 : 캠핑"
      ]
    },
    {
      "cell_type": "markdown",
      "metadata": {
        "id": "NsK_qm-5qK9n"
      },
      "source": [
        "## 문제\n",
        "등산가 김강산은 가족들과 함께 캠핑을 떠났다. 하지만, 캠핑장에는 다음과 같은 경고문이 쓰여 있었다.\n",
        "\n",
        "캠핑장은 연속하는 20일 중 10일동안만 사용할 수 있습니다.\n",
        "\n",
        "강산이는 이제 막 28일 휴가를 시작했다. 이번 휴가 기간 동안 강산이는 캠핑장을 며칠동안 사용할 수 있을까?\n",
        "\n",
        "강산이는 조금 더 일반화해서 문제를 풀려고 한다. \n",
        "\n",
        "캠핑장을 연속하는 P일 중, L일동안만 사용할 수 있다. 강산이는 이제 막 V일짜리 휴가를 시작했다. 강산이가 캠핑장을 최대 며칠동안 사용할 수 있을까? (1 < L < P < V)"
      ]
    },
    {
      "cell_type": "markdown",
      "metadata": {
        "id": "J2YUcr5-qNo9"
      },
      "source": [
        "### 입력\n",
        "입력은 여러 개의 테스트 케이스로 이루어져 있다. 각 테스트 케이스는 한 줄로 이루어져 있고, L, P, V를 순서대로 포함하고 있다. 모든 입력 정수는 int범위이다. 마지막 줄에는 0이 3개 주어진다."
      ]
    },
    {
      "cell_type": "markdown",
      "metadata": {
        "id": "EaNcowdQqQbV"
      },
      "source": [
        "### 출력\n",
        "각 테스트 케이스에 대해서, 강산이가 캠핑장을 최대 며칠동안 사용할 수 있는지 예제 출력처럼 출력한다."
      ]
    },
    {
      "cell_type": "code",
      "metadata": {
        "colab": {
          "base_uri": "https://localhost:8080/"
        },
        "id": "J3TIkm1cqTG4",
        "outputId": "2cbca634-06ea-4d76-84a5-7d80ff285c11"
      },
      "source": [
        "TC = []\n",
        "i = 0\n",
        "end = True\n",
        "\n",
        "while end:\n",
        "    TC.append(list(map(int, input().split())))\n",
        "    if TC[i] == [0, 0, 0]:\n",
        "        end = False\n",
        "    i += 1\n",
        "\n",
        "for i in range(len(TC)-1):\n",
        "    n = TC[i][2] // TC[i][1]\n",
        "    rest = TC[i][2] % TC[i][1]\n",
        "    if rest > TC[i][0]:\n",
        "        num = TC[i][0] * (n+1)\n",
        "    else :\n",
        "        num = TC[i][0] * n + rest\n",
        "    print('Case %d: %d' % (i+1, num))"
      ],
      "execution_count": 4,
      "outputs": [
        {
          "output_type": "stream",
          "text": [
            "5 8 20\n",
            "5 8 17\n",
            "0 0 0\n",
            "Case 1: 14\n",
            "Case 2: 11\n"
          ],
          "name": "stdout"
        }
      ]
    },
    {
      "cell_type": "markdown",
      "metadata": {
        "id": "6F_oEfJsqbzY"
      },
      "source": [
        "# 5585번 : 거스름돈"
      ]
    },
    {
      "cell_type": "markdown",
      "metadata": {
        "id": "XM7oQZ2Hqi8e"
      },
      "source": [
        "## 문제\n",
        "타로는 자주 JOI잡화점에서 물건을 산다. JOI잡화점에는 잔돈으로 500엔, 100엔, 50엔, 10엔, 5엔, 1엔이 충분히 있고, 언제나 거스름돈 개수가 가장 적게 잔돈을 준다. 타로가 JOI잡화점에서 물건을 사고 카운터에서 1000엔 지폐를 한장 냈을 때, 받을 잔돈에 포함된 잔돈의 개수를 구하는 프로그램을 작성하시오."
      ]
    },
    {
      "cell_type": "markdown",
      "metadata": {
        "id": "h0Y5VZCzqnZQ"
      },
      "source": [
        "### 입력\n",
        "입력은 한줄로 이루어져있고, 타로가 지불할 돈(1 이상 1000미만의 정수) 1개가 쓰여져있다."
      ]
    },
    {
      "cell_type": "markdown",
      "metadata": {
        "id": "0yeZlk64qqh9"
      },
      "source": [
        "### 출력\n",
        "제출할 출력 파일은 1행으로만 되어 있다. 잔돈에 포함된 매수를 출력하시오."
      ]
    },
    {
      "cell_type": "code",
      "metadata": {
        "colab": {
          "base_uri": "https://localhost:8080/"
        },
        "id": "JQEYyHWfqtbD",
        "outputId": "1918e44d-bf60-47ac-a8b8-70c05f844bf4"
      },
      "source": [
        "m = int(input())\n",
        "num = 0\n",
        "y = 1000-m\n",
        "\n",
        "while y != 0:\n",
        "    if y > 500:\n",
        "        y -= 500\n",
        "        num += 1\n",
        "    elif y >= 100:\n",
        "        y -= 100\n",
        "        num += 1\n",
        "    elif y >= 50:\n",
        "        y -= 50\n",
        "        num += 1\n",
        "    elif y >= 10:\n",
        "        y -= 10\n",
        "        num += 1\n",
        "    elif y >= 5:\n",
        "        y -= 5\n",
        "        num += 1\n",
        "    else :\n",
        "        y -= 1\n",
        "        num += 1\n",
        "print(num)"
      ],
      "execution_count": 5,
      "outputs": [
        {
          "output_type": "stream",
          "text": [
            "380\n",
            "4\n"
          ],
          "name": "stdout"
        }
      ]
    },
    {
      "cell_type": "markdown",
      "metadata": {
        "id": "TNpXO-7yq0NH"
      },
      "source": [
        "# 10162번 : 전자레인지"
      ]
    },
    {
      "cell_type": "markdown",
      "metadata": {
        "id": "Zgl9D1uBq8mD"
      },
      "source": [
        "## 문제\n",
        "3개의 시간조절용 버튼 A B C가 달린 전자레인지가 있다. 각 버튼마다 일정한 시간이 지정되어 있어 해당 버튼을 한번 누를 때마다 그 시간이 동작시간에 더해진다. 버튼 A, B, C에 지정된 시간은 각각 5분, 1분, 10초이다.\n",
        "\n",
        "냉동음식마다 전자레인지로 요리해야할 시간 T가 초단위로 표시되어 있다. 우리는 A, B, C 3개의 버튼을 적절히 눌러서 그 시간의 합이 정확히 T초가 되도록 해야 한다. 단 버튼 A, B, C를 누른 횟수의 합은 항상 최소가 되어야 한다. 이것을 최소버튼 조작이라고 한다. \n",
        "\n",
        "만일 요리시간이 100초라고 하면(T=100) B를 1번, C는 4번 누르면 된다. 이와 다르게 C를 10번 눌러도 100초가 되지만 이 경우 10번은 최소 횟수가 아니기 때문이 답이 될 수 없다. 이 경우 B 1번, C 4번, 총 5번이 최소버튼 조작이다. 그리고 T=234와 같이 3개의 버튼으로 시간을 정확히 맞출 수 없는 경우도 있다. \n",
        "\n",
        "여러분은 주어진 요리시간 T초를 맞추기 위한 최소버튼 조작 방법을 구하는 프로그램을 작성해야 한다. "
      ]
    },
    {
      "cell_type": "markdown",
      "metadata": {
        "id": "BisEaRcSrAP2"
      },
      "source": [
        "### 입력\n",
        "첫 번째 줄에는 요리시간 T(초)가 정수로 주어져 있으며 그 범위는 1 ≤ T ≤ 10,000 이다. "
      ]
    },
    {
      "cell_type": "markdown",
      "metadata": {
        "id": "nIdJFa9yrC51"
      },
      "source": [
        "### 출력\n",
        "여러분은 T초를 위한 최소버튼 조작의 A B C 횟수를 첫 줄에 차례대로 출력해야 한다. 각각의 횟수 사이에는 빈 칸을 둔다. 해당 버튼을 누르지 않는 경우에는 숫자 0을 출력해야한다. 만일 제시된 3개의 버튼으로 T초를 맞출 수 없으면 음수 -1을 첫 줄에 출력해야 한다. "
      ]
    },
    {
      "cell_type": "code",
      "metadata": {
        "colab": {
          "base_uri": "https://localhost:8080/"
        },
        "id": "D2E9-3eXrFjw",
        "outputId": "3ed3b048-6e4a-49f6-f914-fe3d8a413a3f"
      },
      "source": [
        "T = int(input())\n",
        "a = 0\n",
        "b = 0\n",
        "c = 0\n",
        "\n",
        "if T % 10 == 0:\n",
        "    while T != 0:\n",
        "        if T >= 300:\n",
        "            n = T//300\n",
        "            T -= 300 * n\n",
        "            a = n\n",
        "        if T >= 60:\n",
        "            n = T//60\n",
        "            T -= 60 * n\n",
        "            b = n\n",
        "        if T >= 10:\n",
        "            n = T//10\n",
        "            T -= 10 * n\n",
        "            c = n\n",
        "    print(a,b,c)\n",
        "else :\n",
        "    print(-1)"
      ],
      "execution_count": 6,
      "outputs": [
        {
          "output_type": "stream",
          "text": [
            "100\n",
            "0 1 4\n"
          ],
          "name": "stdout"
        }
      ]
    },
    {
      "cell_type": "markdown",
      "metadata": {
        "id": "wJu_N3KEsEY4"
      },
      "source": [
        "# 11399번 : ATM"
      ]
    },
    {
      "cell_type": "markdown",
      "metadata": {
        "id": "6robD12ssP4Y"
      },
      "source": [
        "## 문제\n",
        "인하은행에는 ATM이 1대밖에 없다. 지금 이 ATM앞에 N명의 사람들이 줄을 서있다. 사람은 1번부터 N번까지 번호가 매겨져 있으며, i번 사람이 돈을 인출하는데 걸리는 시간은 Pi분이다.\n",
        "\n",
        "사람들이 줄을 서는 순서에 따라서, 돈을 인출하는데 필요한 시간의 합이 달라지게 된다. 예를 들어, 총 5명이 있고, P1 = 3, P2 = 1, P3 = 4, P4 = 3, P5 = 2 인 경우를 생각해보자. [1, 2, 3, 4, 5] 순서로 줄을 선다면, 1번 사람은 3분만에 돈을 뽑을 수 있다. 2번 사람은 1번 사람이 돈을 뽑을 때 까지 기다려야 하기 때문에, 3+1 = 4분이 걸리게 된다. 3번 사람은 1번, 2번 사람이 돈을 뽑을 때까지 기다려야 하기 때문에, 총 3+1+4 = 8분이 필요하게 된다. 4번 사람은 3+1+4+3 = 11분, 5번 사람은 3+1+4+3+2 = 13분이 걸리게 된다. 이 경우에 각 사람이 돈을 인출하는데 필요한 시간의 합은 3+4+8+11+13 = 39분이 된다.\n",
        "\n",
        "줄을 [2, 5, 1, 4, 3] 순서로 줄을 서면, 2번 사람은 1분만에, 5번 사람은 1+2 = 3분, 1번 사람은 1+2+3 = 6분, 4번 사람은 1+2+3+3 = 9분, 3번 사람은 1+2+3+3+4 = 13분이 걸리게 된다. 각 사람이 돈을 인출하는데 필요한 시간의 합은 1+3+6+9+13 = 32분이다. 이 방법보다 더 필요한 시간의 합을 최소로 만들 수는 없다.\n",
        "\n",
        "줄을 서 있는 사람의 수 N과 각 사람이 돈을 인출하는데 걸리는 시간 Pi가 주어졌을 때, 각 사람이 돈을 인출하는데 필요한 시간의 합의 최솟값을 구하는 프로그램을 작성하시오."
      ]
    },
    {
      "cell_type": "markdown",
      "metadata": {
        "id": "_oHB7S6GsT5B"
      },
      "source": [
        "### 입력\n",
        "첫째 줄에 사람의 수 N(1 ≤ N ≤ 1,000)이 주어진다. 둘째 줄에는 각 사람이 돈을 인출하는데 걸리는 시간 Pi가 주어진다. (1 ≤ Pi ≤ 1,000)"
      ]
    },
    {
      "cell_type": "markdown",
      "metadata": {
        "id": "eyRrlFBJsWet"
      },
      "source": [
        "### 출력\n",
        "첫째 줄에 각 사람이 돈을 인출하는데 필요한 시간의 합의 최솟값을 출력한다."
      ]
    },
    {
      "cell_type": "code",
      "metadata": {
        "colab": {
          "base_uri": "https://localhost:8080/"
        },
        "id": "moZ8y0-gsYkj",
        "outputId": "fbf4f8ae-8943-4bac-a9d2-bd27fd64dc50"
      },
      "source": [
        "N = int(input())\n",
        "P = list(map(int, input().split()))\n",
        "P.sort()\n",
        "val = 0\n",
        "\n",
        "for i in range(N):\n",
        "    val += sum(P[:(i+1)])\n",
        "print(val)"
      ],
      "execution_count": 7,
      "outputs": [
        {
          "output_type": "stream",
          "text": [
            "5\n",
            "3 1 4 3 2\n",
            "32\n"
          ],
          "name": "stdout"
        }
      ]
    },
    {
      "cell_type": "markdown",
      "metadata": {
        "id": "-9hd-9Wksecq"
      },
      "source": [
        "# 11497번 : 통나무 건너뛰기"
      ]
    },
    {
      "cell_type": "markdown",
      "metadata": {
        "id": "wPPcPe5Ns2TW"
      },
      "source": [
        "## 문제\n",
        "남규는 통나무를 세워 놓고 건너뛰기를 좋아한다. 그래서 N개의 통나무를 원형으로 세워 놓고 뛰어놀려고 한다. 남규는 원형으로 인접한 옆 통나무로 건너뛰는데, 이때 각 인접한 통나무의 높이 차가 최소가 되게 하려 한다.\n",
        "\n",
        "통나무 건너뛰기의 난이도는 인접한 두 통나무 간의 높이의 차의 최댓값으로 결정된다. 높이가 {2, 4, 5, 7, 9}인 통나무들을 세우려 한다고 가정하자. 이를 [2, 9, 7, 4, 5]의 순서로 세웠다면, 가장 첫 통나무와 가장 마지막 통나무 역시 인접해 있다. 즉, 높이가 2인 것과 높이가 5인 것도 서로 인접해 있다. 배열 [2, 9, 7, 4, 5]의 난이도는 |2-9| = 7이다. 우리는 더 나은 배열 [2, 5, 9, 7, 4]를 만들 수 있으며 이 배열의 난이도는 |5-9| = 4이다. 이 배열보다 난이도가 낮은 배열은 만들 수 없으므로 이 배열이 남규가 찾는 답이 된다."
      ]
    },
    {
      "cell_type": "markdown",
      "metadata": {
        "id": "Poj9B3sBs7yv"
      },
      "source": [
        "### 입력\n",
        "입력은 T개의 테스트 케이스로 이루어져 있다. 첫 줄에 T가 주어진다.\n",
        "\n",
        "이어지는 각 줄마다 첫 줄에 통나무의 개수를 나타내는 정수 N(5 ≤ N ≤ 10,000), 둘째 줄에 각 통나무의 높이를 나타내는 정수 Li가 주어진다. (1 ≤ Li ≤ 100,000)"
      ]
    },
    {
      "cell_type": "markdown",
      "metadata": {
        "id": "iJJ7rWI9s-_J"
      },
      "source": [
        "### 출력\n",
        "각 테스트 케이스마다 한 줄에 주어진 통나무들로 만들 수 있는 최소 난이도를 출력하시오."
      ]
    },
    {
      "cell_type": "code",
      "metadata": {
        "colab": {
          "base_uri": "https://localhost:8080/"
        },
        "id": "_hR6CLJhtBD2",
        "outputId": "1d0920b0-e974-4169-bacf-40c566a9575e"
      },
      "source": [
        "t = int(input())\n",
        "answer = []\n",
        "for i in range(t):\n",
        "    max = 0\n",
        "    n = int(input())\n",
        "    arr = []\n",
        "    L = list(map(int, input().split()))\n",
        "    L.sort()\n",
        "    for j in range(0, n, 2):\n",
        "        arr.append(L[j])\n",
        "    for j in range(n-1, -1, -2):\n",
        "        arr.append(L[j])\n",
        "    for j in range(n):\n",
        "        if arr[j] >= arr[j-1]:\n",
        "            if (arr[j] - arr[j-1]) > max:\n",
        "                max = arr[j] - arr[j-1]\n",
        "        else:\n",
        "            if (arr[j-1] - arr[j]) > max:\n",
        "                max = arr[j-1] - arr[j]\n",
        "    answer.append(max)\n",
        "for i in range(t):\n",
        "    print(answer[i])"
      ],
      "execution_count": 9,
      "outputs": [
        {
          "output_type": "stream",
          "text": [
            "3\n",
            "7\n",
            "13 10 12 11 10 11 12\n",
            "5\n",
            "2 4 5 7 9\n",
            "8\n",
            "6 6 6 6 6 6 6 6\n",
            "1\n",
            "4\n",
            "0\n"
          ],
          "name": "stdout"
        }
      ]
    },
    {
      "cell_type": "markdown",
      "metadata": {
        "id": "f-F_z7pft4Cd"
      },
      "source": [
        "- 오답 : 반례를 찾지 못함"
      ]
    }
  ]
}